{
  "nbformat": 4,
  "nbformat_minor": 0,
  "metadata": {
    "colab": {
      "provenance": [],
      "authorship_tag": "ABX9TyP9eLlFPTPnlmU9DLQqYcjN",
      "include_colab_link": true
    },
    "kernelspec": {
      "name": "python3",
      "display_name": "Python 3"
    },
    "language_info": {
      "name": "python"
    }
  },
  "cells": [
    {
      "cell_type": "markdown",
      "metadata": {
        "id": "view-in-github",
        "colab_type": "text"
      },
      "source": [
        "<a href=\"https://colab.research.google.com/github/rashzayn/Yandex-CodeRun/blob/main/Yandex_Coderun_Problem_1.ipynb\" target=\"_parent\"><img src=\"https://colab.research.google.com/assets/colab-badge.svg\" alt=\"Open In Colab\"/></a>"
      ]
    },
    {
      "cell_type": "code",
      "execution_count": null,
      "metadata": {
        "colab": {
          "base_uri": "https://localhost:8080/"
        },
        "id": "8ngDWKLSw4gV",
        "outputId": "77f71a8a-6130-4e7a-8227-d9dfbf237cf8"
      },
      "outputs": [
        {
          "output_type": "stream",
          "name": "stdout",
          "text": [
            "1 2 6\n",
            "2\n"
          ]
        }
      ],
      "source": [
        "# Yandex CodeRun. Problem 1. Python Implementaion.\n",
        "# Problem Objective: Finding a Middle Number with Desired Ascending Order Output Format.\n",
        "# Completed by Richard Maximillian Zayn\n",
        "\n",
        "def find_middle_element(a, b, c):\n",
        "  \"\"\"Finds the middle element of three numbers.\n",
        "\n",
        "  Args:\n",
        "    a: The first number.\n",
        "    b: The second number.\n",
        "    c: The third number.\n",
        "\n",
        "  Returns:\n",
        "    The middle element of the three numbers.\n",
        "  \"\"\"\n",
        "\n",
        "  numbers = [a, b, c]\n",
        "  numbers.sort()\n",
        "  return numbers[1]\n",
        "\n",
        "if __name__ == \"__main__\":\n",
        "  a, b, c = map(int, input().split())  # Remove the prompt message\n",
        "  middle = find_middle_element(a, b, c)\n",
        "  print(middle)"
      ]
    },
    {
      "cell_type": "markdown",
      "source": [
        "\n",
        "### Code Analysis and Breakdown:\n",
        "\n",
        "**Problem Description:**\n",
        "The problem asks to determine the middle element of three integers after sorting them in ascending order. The input consists of three integers, and the task is to return the second number when the integers are arranged in ascending order.\n",
        "\n",
        "### Code Implementation:\n",
        "```python\n",
        "def find_middle_element(a, b, c):\n",
        "    \"\"\"Finds the middle element of three numbers.\n",
        "\n",
        "    Args:\n",
        "        a: The first number.\n",
        "        b: The second number.\n",
        "        c: The third number.\n",
        "\n",
        "    Returns:\n",
        "        The middle element of the three numbers.\n",
        "    \"\"\"\n",
        "\n",
        "    numbers = [a, b, c]  # Store the three numbers in a list\n",
        "    numbers.sort()  # Sort the list in ascending order\n",
        "    return numbers[1]  # Return the second (middle) element\n",
        "\n",
        "if __name__ == \"__main__\":\n",
        "    a, b, c = map(int, input().split())  # Read input as three integers\n",
        "    middle = find_middle_element(a, b, c)  # Call the function to find the middle element\n",
        "    print(middle)  # Print the middle element\n",
        "```\n",
        "\n",
        "### Key Aspects of the Code:\n",
        "\n",
        "1. **Function Definition (`find_middle_element`)**:\n",
        "   - This function takes three arguments: `a`, `b`, and `c`, which represent the three integers.\n",
        "   - The numbers are stored in a list (`numbers = [a, b, c]`).\n",
        "   - The `sort()` method sorts the list in ascending order. Sorting time complexity for three numbers is negligible (`O(1)`).\n",
        "   - The function returns the second element of the sorted list, which is the middle element.\n",
        "\n",
        "2. **Input Handling**:\n",
        "   - The `input()` function reads a line of input as a string.\n",
        "   - `map(int, input().split())` splits the input string into separate values and converts them into integers, storing them as `a`, `b`, and `c`.\n",
        "\n",
        "3. **Output**:\n",
        "   - After calling `find_middle_element()`, the result is stored in the variable `middle`, which is then printed to the console.\n",
        "\n",
        "### Strengths of the Code:\n",
        "\n",
        "- **Clarity**: The code is very clean and easy to understand. It follows a straightforward approach to solving the problem using list manipulation.\n",
        "- **Conciseness**: The function is well-structured and makes good use of Python's built-in list and sort features.\n",
        "- **Efficiency**: Sorting three elements has a constant time complexity, making the solution optimal in this context.\n",
        "- **Documentation**: The code includes a helpful docstring that explains the function's behavior.\n",
        "\n",
        "### Performance Analysis:\n",
        "\n",
        "- **Time Complexity**:\n",
        "  - Sorting three numbers has a time complexity of `O(1)` since the sorting is over a fixed, small number of elements.\n",
        "  - Input parsing via `map()` and `input()` has a time complexity of `O(1)` for fixed-size inputs.\n",
        "  - The overall time complexity is `O(1)`, which is optimal given the problem constraints (only 3 elements to work with).\n",
        "  \n",
        "- **Space Complexity**:\n",
        "  - The list `numbers` holds exactly 3 integers, so the space complexity is `O(1)`.\n",
        "\n",
        "Given the problem constraints (with `a, b, c` between -1000 and 1000), the solution is well within the time limit of 1 second and memory limit of 256 MB.\n",
        "\n",
        "### Possible Improvements:\n",
        "\n",
        "1. **Edge Case Consideration**:\n",
        "   - **Identical numbers**: If all three input numbers are identical, the function works perfectly fine and will return that identical number.\n",
        "   - **Negative numbers**: Since the input range allows negative numbers, it’s important to note that the sorting function works properly with negative integers, as Python’s sorting mechanism compares integers numerically.\n",
        "\n",
        "2. **Avoid Sorting for Efficiency**:\n",
        "   - Sorting three elements is not necessary to determine the middle element. You can find the middle element using simple comparison, which can slightly optimize the code:\n",
        "   \n",
        "   ```python\n",
        "   def find_middle_element(a, b, c):\n",
        "       \"\"\"Find the middle of three numbers without sorting.\"\"\"\n",
        "       if (a <= b <= c) or (c <= b <= a):\n",
        "           return b\n",
        "       elif (b <= a <= c) or (c <= a <= b):\n",
        "           return a\n",
        "       else:\n",
        "           return c\n",
        "   ```\n",
        "\n",
        "   This approach has constant time complexity `O(1)` and avoids the overhead of sorting, though the difference is minimal for such a small dataset.\n",
        "\n",
        "### Conclusion:\n",
        "\n",
        "The provided code is clear, concise, and well-suited for the problem at hand. It makes efficient use of Python’s built-in sorting, resulting in a time complexity of `O(1)`, which is optimal for this scenario. Minor optimizations can be made by avoiding sorting, though this would only have a marginal impact given the small input size.\n",
        "\n"
      ],
      "metadata": {
        "id": "kcoUd_jaxNT-"
      }
    },
    {
      "cell_type": "code",
      "source": [],
      "metadata": {
        "id": "pjJVjgx62GMt"
      },
      "execution_count": null,
      "outputs": []
    }
  ]
}